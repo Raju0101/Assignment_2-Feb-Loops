{
 "cells": [
  {
   "cell_type": "code",
   "execution_count": null,
   "id": "14cf2c50-f63d-4a74-84fa-f9b1e8407130",
   "metadata": {},
   "outputs": [],
   "source": [
    "# Q-1: when to use for loop and while loop in python,give example"
   ]
  },
  {
   "cell_type": "code",
   "execution_count": null,
   "id": "a91b0f2c-4311-477a-a34f-502485324928",
   "metadata": {},
   "outputs": [],
   "source": [
    "#For loop is used when the number of iterations is already known. \n",
    "#While loop is used when the number of iterations is already Unknown. it execute the loop till condition is true."
   ]
  },
  {
   "cell_type": "code",
   "execution_count": 1,
   "id": "7c52c93d-5715-410d-bfef-75eaf00c30ea",
   "metadata": {},
   "outputs": [
    {
     "name": "stdout",
     "output_type": "stream",
     "text": [
      "1\n",
      "2\n",
      "3\n",
      "4\n",
      "5\n"
     ]
    }
   ],
   "source": [
    "#For loop example\n",
    "l= [1,2,3,4,5]\n",
    "\n",
    "for i in l:\n",
    "    print(i)"
   ]
  },
  {
   "cell_type": "code",
   "execution_count": 2,
   "id": "231c91b5-4d7b-47a0-ab5b-488b67969651",
   "metadata": {},
   "outputs": [
    {
     "name": "stdout",
     "output_type": "stream",
     "text": [
      "1\n",
      "2\n",
      "3\n",
      "4\n",
      "5\n",
      "6\n",
      "7\n",
      "8\n",
      "9\n",
      "10\n"
     ]
    }
   ],
   "source": [
    "#While loop example\n",
    "\n",
    "x= 1\n",
    "\n",
    "while x <= 10:\n",
    "    print(x)\n",
    "    x=x+1"
   ]
  },
  {
   "cell_type": "code",
   "execution_count": null,
   "id": "a95dfd68-ed6f-4b76-a108-e0c017aa632e",
   "metadata": {},
   "outputs": [],
   "source": [
    "# Q.2: print sum and product of first 10 natural number using for and while loop"
   ]
  },
  {
   "cell_type": "code",
   "execution_count": null,
   "id": "5f7097f0-3bd4-4047-a044-97c95033cbcd",
   "metadata": {},
   "outputs": [],
   "source": []
  },
  {
   "cell_type": "code",
   "execution_count": 35,
   "id": "bbebccfb-88b3-47ac-ab0f-5e0dd67072d1",
   "metadata": {},
   "outputs": [
    {
     "name": "stdin",
     "output_type": "stream",
     "text": [
      "Enter number 10\n"
     ]
    },
    {
     "name": "stdout",
     "output_type": "stream",
     "text": [
      "55\n"
     ]
    }
   ],
   "source": [
    "num = int(input(\"Enter number\"))\n",
    "sum = 0\n",
    "for i in range (1, num+1):\n",
    "    sum = sum+i\n",
    "print (sum)\n",
    "    "
   ]
  },
  {
   "cell_type": "code",
   "execution_count": 40,
   "id": "c3e2c37d-ad86-4cf0-9d67-8e326f1370ea",
   "metadata": {},
   "outputs": [
    {
     "name": "stdin",
     "output_type": "stream",
     "text": [
      "enter number 10\n"
     ]
    },
    {
     "name": "stdout",
     "output_type": "stream",
     "text": [
      "3628800\n"
     ]
    }
   ],
   "source": [
    "num = int(input(\"enter number\"))\n",
    "mult = 1\n",
    "for i in range (1,num+1):\n",
    "    mult= mult*i\n",
    "print(mult)"
   ]
  },
  {
   "cell_type": "code",
   "execution_count": 2,
   "id": "e0a12626-ca65-4daf-b25f-f36c399466b4",
   "metadata": {},
   "outputs": [
    {
     "name": "stdin",
     "output_type": "stream",
     "text": [
      "Enter number 10\n"
     ]
    },
    {
     "name": "stdout",
     "output_type": "stream",
     "text": [
      "55\n"
     ]
    }
   ],
   "source": [
    "num = int(input(\"Enter number\"))\n",
    "sum = 0          \n",
    "while (num > 0):\n",
    "        sum  += num\n",
    "        num -= 1\n",
    "    \n",
    "print(sum)\n",
    "        "
   ]
  },
  {
   "cell_type": "code",
   "execution_count": 5,
   "id": "7aea97ed-b1c0-4f68-95fb-971a3c63e9ab",
   "metadata": {},
   "outputs": [
    {
     "name": "stdin",
     "output_type": "stream",
     "text": [
      "Enter number 10\n"
     ]
    },
    {
     "name": "stdout",
     "output_type": "stream",
     "text": [
      "3628800\n"
     ]
    }
   ],
   "source": [
    "num = int(input(\"Enter number\"))\n",
    "mult = 1          \n",
    "while (num > 0):\n",
    "        mult  *= num\n",
    "        num -= 1\n",
    "    \n",
    "print(mult)\n",
    "        "
   ]
  },
  {
   "cell_type": "code",
   "execution_count": 7,
   "id": "61108906-f1b2-4269-9953-07163fe31f95",
   "metadata": {},
   "outputs": [
    {
     "name": "stdin",
     "output_type": "stream",
     "text": [
      "enter number 310\n"
     ]
    },
    {
     "name": "stdout",
     "output_type": "stream",
     "text": [
      "2250\n"
     ]
    }
   ],
   "source": [
    "x = int(input(\"enter number\"))\n",
    "if (x> 300):\n",
    "        sum =( (x-300)*20+100*10+100*6+100*(4.5))\n",
    "elif (x > 200 and x <= 300):\n",
    "        sum =( 100*10+100*6+100*(4.5))\n",
    "elif (x > 100 and x <= 200):\n",
    "        sum =(100*6+100*(4.5)) \n",
    "elif (x > 0 and x <= 100):\n",
    "        sum =( 100*(4.5)) \n",
    "print(int(sum))        "
   ]
  },
  {
   "cell_type": "code",
   "execution_count": 49,
   "id": "e04a968b-31da-48b9-a83f-5adf768582ff",
   "metadata": {},
   "outputs": [],
   "source": [
    "# Q-4:  Create a list of numbers from 1 to 100. Use for loop and while loop to calculate the cube of each \n",
    "#number and if the cube of that number is divisible by 4 or 5 then append that number in a list and print that number.\n"
   ]
  },
  {
   "cell_type": "code",
   "execution_count": 50,
   "id": "ce02980f-f0d1-4ece-8977-f294e2badf36",
   "metadata": {},
   "outputs": [
    {
     "name": "stdout",
     "output_type": "stream",
     "text": [
      "[1, 8, 27, 64, 125, 216, 343, 512, 729]\n"
     ]
    }
   ],
   "source": [
    "l=[]\n",
    "for i in range (1,10):\n",
    "    \n",
    "    l.append(i**3)\n",
    "print (l)"
   ]
  },
  {
   "cell_type": "code",
   "execution_count": 51,
   "id": "f463b6ba-94f2-45bb-866a-2169a3445aa3",
   "metadata": {},
   "outputs": [
    {
     "name": "stdout",
     "output_type": "stream",
     "text": [
      "[1, 8, 27, 64, 125, 216, 343, 512, 729]\n"
     ]
    }
   ],
   "source": [
    "l=[]\n",
    "for i in range (1,10):\n",
    "    \n",
    "    l.append(i**3)\n",
    "print (l)"
   ]
  },
  {
   "cell_type": "code",
   "execution_count": null,
   "id": "bd50591b-40d0-4189-8c9c-6c223b875439",
   "metadata": {},
   "outputs": [],
   "source": []
  },
  {
   "cell_type": "code",
   "execution_count": null,
   "id": "139b125e-7f1d-4b6c-a19c-7d5ef2fce054",
   "metadata": {},
   "outputs": [],
   "source": [
    "s = \"I want to become a data scientists\"\n",
    "count = 0\n",
    "for i in s ('a','e','i','o','u')\n",
    "   \n"
   ]
  }
 ],
 "metadata": {
  "kernelspec": {
   "display_name": "Python 3 (ipykernel)",
   "language": "python",
   "name": "python3"
  },
  "language_info": {
   "codemirror_mode": {
    "name": "ipython",
    "version": 3
   },
   "file_extension": ".py",
   "mimetype": "text/x-python",
   "name": "python",
   "nbconvert_exporter": "python",
   "pygments_lexer": "ipython3",
   "version": "3.10.8"
  }
 },
 "nbformat": 4,
 "nbformat_minor": 5
}
